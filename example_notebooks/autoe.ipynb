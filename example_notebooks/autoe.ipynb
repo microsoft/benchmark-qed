{
 "cells": [
  {
   "cell_type": "code",
   "execution_count": null,
   "id": "c0caa0d3",
   "metadata": {},
   "outputs": [],
   "source": [
    "# Copyright (c) 2025 Microsoft Corporation.\n",
    "import os\n",
    "from typing import cast\n",
    "\n",
    "import pandas as pd\n",
    "from rich import print as rich_print\n",
    "\n",
    "from benchmark_qed.autoe.score import analyze_criteria, get_pairwise_scores\n",
    "from benchmark_qed.cli.utils import print_df\n",
    "from benchmark_qed.config.llm_config import LLMConfig, LLMProvider\n",
    "from benchmark_qed.config.model.score import pairwise_scores_criteria\n",
    "from benchmark_qed.llm.factory import ModelFactory"
   ]
  },
  {
   "cell_type": "code",
   "execution_count": null,
   "id": "bf9ea340",
   "metadata": {},
   "outputs": [],
   "source": [
    "import nest_asyncio\n",
    "\n",
    "nest_asyncio.apply()"
   ]
  },
  {
   "cell_type": "code",
   "execution_count": null,
   "id": "351b3cad",
   "metadata": {},
   "outputs": [],
   "source": [
    "%load_ext dotenv\n",
    "%dotenv"
   ]
  },
  {
   "cell_type": "code",
   "execution_count": null,
   "id": "a6af0cb3",
   "metadata": {},
   "outputs": [],
   "source": [
    "llm_config = LLMConfig(\n",
    "    model=\"o3-mini\",\n",
    "    api_key=os.environ[\"OPENAI_API_KEY\"],\n",
    "    llm_provider=LLMProvider.OpenAIChat,\n",
    "    concurrent_requests=100,\n",
    "    call_args={\n",
    "        \"temperature\": 0.0,\n",
    "    },\n",
    ")\n",
    "llm_client = ModelFactory.create_chat_model(llm_config)"
   ]
  },
  {
   "cell_type": "code",
   "execution_count": null,
   "id": "b1aa3068",
   "metadata": {},
   "outputs": [],
   "source": [
    "trials = 4\n",
    "alpha = 0.05\n",
    "\n",
    "criteria = pairwise_scores_criteria()\n",
    "\n",
    "base = \"vector_rag\"\n",
    "others = [\"drift_search\", \"global_search_C2\"]\n",
    "question_sets = [\"activity_global\", \"activity_local\"]\n",
    "trials = 4"
   ]
  },
  {
   "cell_type": "code",
   "execution_count": null,
   "id": "06848cfc",
   "metadata": {},
   "outputs": [],
   "source": [
    "all_results = []\n",
    "for question_set in question_sets:\n",
    "    for other in others:\n",
    "        rich_print(f\"Processing {base} vs {other} for question set: {question_set}\")\n",
    "        result = get_pairwise_scores(\n",
    "            llm_client=llm_client,\n",
    "            llm_config=llm_config,\n",
    "            base_name=base,\n",
    "            other_name=other,\n",
    "            base_answers=pd.read_json(\n",
    "                f\"./autoe_example_data/{base}/{question_set}.json\"\n",
    "            ),\n",
    "            other_answers=pd.read_json(\n",
    "                f\"./autoe_example_data/{other}/{question_set}.json\"\n",
    "            ),\n",
    "            criteria=criteria,\n",
    "            trials=trials,\n",
    "        )\n",
    "        result[\"question_set\"] = question_set\n",
    "        all_results.append(result)\n",
    "\n",
    "all_results_df = pd.concat(all_results, ignore_index=True)\n",
    "p_value = analyze_criteria(\n",
    "    all_results_df,\n",
    "    alpha=alpha,\n",
    ")\n",
    "\n",
    "print_df(\n",
    "    cast(\n",
    "        pd.DataFrame,\n",
    "        p_value[\n",
    "            [\n",
    "                \"question_set\",\n",
    "                \"criteria\",\n",
    "                \"base_name\",\n",
    "                \"other_name\",\n",
    "                \"base_mean\",\n",
    "                \"other_mean\",\n",
    "                \"formatted_corrected_p_value\",\n",
    "            ]\n",
    "        ],\n",
    "    ),\n",
    "    \"Pairwise Scores Summary\",\n",
    ")"
   ]
  },
  {
   "cell_type": "code",
   "execution_count": null,
   "id": "4e1d756e",
   "metadata": {},
   "outputs": [],
   "source": [
    "rich_print(\"Model usage statistics:\")\n",
    "rich_print(llm_client.get_usage())"
   ]
  },
  {
   "cell_type": "code",
   "execution_count": null,
   "id": "d33e5e65",
   "metadata": {},
   "outputs": [],
   "source": []
  }
 ],
 "metadata": {
  "kernelspec": {
   "display_name": ".venv",
   "language": "python",
   "name": "python3"
  },
  "language_info": {
   "codemirror_mode": {
    "name": "ipython",
    "version": 3
   },
   "file_extension": ".py",
   "mimetype": "text/x-python",
   "name": "python",
   "nbconvert_exporter": "python",
   "pygments_lexer": "ipython3",
   "version": "3.12.1"
  }
 },
 "nbformat": 4,
 "nbformat_minor": 5
}
